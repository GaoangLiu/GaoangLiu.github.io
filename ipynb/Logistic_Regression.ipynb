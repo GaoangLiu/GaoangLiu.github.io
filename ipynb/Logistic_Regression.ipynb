{
 "cells": [
  {
   "cell_type": "markdown",
   "metadata": {},
   "source": [
    "# Logistic Regression\n",
    "A logistic regression model computes a **weighted sum** of the input features (plus a bias term). Estimated probability in vectorized form: $$p = \\sigma(\\theta^T \\cdot x)$$, where $\\sigma(\\cdot)$ is a *sigmoid funciton*. \n",
    "\n",
    "## What is sigmoid function and why ?\n",
    "sigmoid function is $$\\sigma(z) = \\frac{1}{1 + e^{-z}}$$\n"
   ]
  },
  {
   "cell_type": "code",
   "execution_count": 10,
   "metadata": {},
   "outputs": [],
   "source": [
    "import math\n",
    "import pandas as pd \n",
    "import numpy as np\n",
    "from sklearn.datasets import load_iris"
   ]
  },
  {
   "cell_type": "markdown",
   "metadata": {},
   "source": [
    "Load iris data"
   ]
  },
  {
   "cell_type": "code",
   "execution_count": 193,
   "metadata": {},
   "outputs": [],
   "source": [
    "iris = load_iris()\n",
    "data, labels = iris.data, iris.target\n",
    "data = np.mat(data[:100])\n",
    "labels = np.mat(labels[:100]).transpose()\n",
    "\n"
   ]
  },
  {
   "cell_type": "code",
   "execution_count": 192,
   "metadata": {
    "scrolled": true
   },
   "outputs": [
    {
     "name": "stdout",
     "output_type": "stream",
     "text": [
      "Grad ascent accuracy 1.0\n",
      "Stoc Grad ascent accuracy 1.0\n"
     ]
    }
   ],
   "source": [
    "def sigmoid(X):\n",
    "    return 1/(1 + np.exp(-X))\n",
    "\n",
    "def grad_ascent(mat, labels, alpha=0.001, epochs=100):\n",
    "    \"\"\" Grad ascent method, which is similar to grad descent method, the \n",
    "    difference is use W + \\alpha \\Delta_w f(w) instead of W - \\alpha \\Delta_w f(w) \n",
    "    to update weights\n",
    "    \"\"\"\n",
    "    m, n = np.shape(mat)\n",
    "    weights = np.ones((n, 1))\n",
    "\n",
    "    while epochs > 0:\n",
    "        epochs -= 1\n",
    "        pred = sigmoid(mat * weights)\n",
    "        error = labels - pred\n",
    "        weights = weights + alpha * mat.transpose() * error\n",
    "    return weights \n",
    "\n",
    "def stoc_grad_ascent(mat, labels, alpha=0.001, epochs=100):\n",
    "    \"\"\" Stochastic grad ascent method. Difference from grad_ascent: \n",
    "    1. h, error are values in this method, not vector\n",
    "    2. no transpose required\n",
    "    \"\"\"\n",
    "    mat = np.array(mat)\n",
    "    labels = np.array(labels)\n",
    "    m, n = np.shape(mat)\n",
    "    weights = np.ones(n)\n",
    "    \n",
    "    while epochs > 0:\n",
    "        epochs -= 1\n",
    "        for i in range(m):\n",
    "            h = sigmoid(sum(mat[i] * weights))\n",
    "            error = labels[i] - h\n",
    "            weights = weights + alpha * error * mat[i]\n",
    "    return weights \n",
    "\n",
    "weights_stoc = stoc_grad_ascent(data, labels, epochs=10)\n",
    "data_array = np.array(data)\n",
    "\n",
    "weights = grad_ascent(data, labels, epochs=10)\n",
    "correct = correct_stoc = 0\n",
    "for i in range(len(data)):\n",
    "    pred = sigmoid(data[i] * weights)\n",
    "    pred_stoc = sigmoid(sum(data_array[i] * weights_stoc))\n",
    "    pred_stoc = 0 if pred_stoc <= 0.5 else 1\n",
    "    pred = 1 if pred[0][0] >= 0.5 else 0\n",
    "\n",
    "    correct += 1 if pred == labels[i][0] else 0\n",
    "    correct_stoc += 1 if pred_stoc == labels[i][0] else 0\n",
    "\n",
    "\n",
    "print(f\"Grad ascent accuracy {correct / len(labels)}\")    \n",
    "print(f\"Stoc Grad ascent accuracy {correct_stoc / len(labels)}\")    \n",
    "\n"
   ]
  },
  {
   "cell_type": "markdown",
   "metadata": {},
   "source": [
    "## Sklearn.linear_model.LogisticRegression\n",
    "\n"
   ]
  },
  {
   "cell_type": "markdown",
   "metadata": {},
   "source": [
    "from sklearn.linear_model import LogisticRegression\n",
    "\n",
    "model = LogisticRegression(solver='lbfgs', verbose=1, n_jobs=3, random_state=23)\n",
    "iris = load_iris()\n",
    "data, labels = iris.data, iris.target\n",
    "model.fit(data, labels)\n",
    "model.score(data, labels)"
   ]
  },
  {
   "cell_type": "markdown",
   "metadata": {},
   "source": [
    "或者龗   加压 国莫畸革\n",
    "\n"
   ]
  }
 ],
 "metadata": {
  "kernelspec": {
   "display_name": "Python 3",
   "language": "python",
   "name": "python3"
  },
  "language_info": {
   "codemirror_mode": {
    "name": "ipython",
    "version": 3
   },
   "file_extension": ".py",
   "mimetype": "text/x-python",
   "name": "python",
   "nbconvert_exporter": "python",
   "pygments_lexer": "ipython3",
   "version": "3.7.7"
  }
 },
 "nbformat": 4,
 "nbformat_minor": 2
}
