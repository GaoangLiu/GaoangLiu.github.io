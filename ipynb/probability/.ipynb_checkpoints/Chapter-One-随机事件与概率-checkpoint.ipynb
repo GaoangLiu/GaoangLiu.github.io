{
 "cells": [
  {
   "cell_type": "markdown",
   "metadata": {},
   "source": [
    "# 随机事件及运算\n",
    "\n",
    "随机现象，在一定的条件下，并不总是出现相同结果的现象。 只有一个结果的现象称为**确定性**现象， 比如从全是白球的箱子里随机选择一个球其颜色为白色。\n",
    "\n",
    "随机变量，表示随机现象结果的变量\n",
    "\n",
    "事件，即随机事件，随机现象的某些样本点组成的集合。样本点，随机现象的可能基本结果。\n",
    "\n",
    "事件的表示可以有多种方法，\n",
    "1. 集体\n",
    "2. 语言，但语言要明确无误\n",
    "3. 随机变量\n",
    "\n",
    "\n",
    "事件运算的性质：\n",
    "1. 交换率, $A \\cup B = B \\cup A, A \\cap B = B \\cap A$\n",
    "2. 结合率, $(A \\cup B) \\cup C = A \\cup (B\\cup C)$, $(A \\cap B) \\cap C = A \\cap (B\\cap C)$\n",
    "3. 分配率, $(A \\cup B) \\cap C = (A \\cap C) \\cup  (B\\cap C)$\n",
    "4. 对偶率, \n",
    "    * 事件并的对立等于事件对立的交 $\\overline{A \\cup B} = \\overline{A} \\cap \\overline{B}$\n",
    "    * 事件交的对立等于事件对立的并 $\\overline{A \\cap B} = \\overline{A} \\cup \\overline{B}$\n",
    "    \n",
    "## 事件域 $\\mathcal{F}$    \n",
    "定义：设 $\\Omega$ 为一个样本空间，$\\mathcal{F}$ 为 $\\Omega$ 的某些子集所组成的事件域，如果 $\\mathcal{F}$ 满足:\n",
    "1. $\\Omega \\in \\mathcal{F}$, \n",
    "2. if $A \\in \\mathcal{F}$, 那么对立事件 $\\overline{A} \\in \\mathcal{F}$, \n",
    "3. 若 $A_i \\in \\mathcal{F}, i = 1, 2, ...$, 则可列并 $\\bigcup_i^{+ \\infty} A_i \\in \\mathcal{F}$\n",
    "\n",
    "则称 $\\mathcal{F}$ 为一个事件域，也称 **$\\sigma$ 代数**, 也称 $\\sigma$ 域\n",
    "\n",
    "\n",
    "## 概率\n",
    "直观说法，概率是随机事件发生的可能性大小。\n",
    "\n",
    "### 小历史\n",
    "纵观概率论的发展历史，曾有过概率的古典定义、概率的几何定义、概率的频率定义和概率的主观定义。1900年 Hilbert 提出要建立概率的公理化定义以解决**适合一切随机现象的概率的一般定义**的问题，即以最少的几条本质特性出发去刻画概率的概念。 1933年前苏联数学家 Andrey Kolmogorov 首次提出概率的公理化定义，并迅速获得举世公认，成为概率论发展的一个里程碑。 \n",
    "\n",
    "### 公理化定义 \n",
    "定义：设 $\\Omega$ 为一个样本空间，$\\mathcal{F}$ 为 $\\Omega$ 的某些子集所组成的事件域。如果对任一事件 $A \\in \\mathcal{F}$，定义在 $\\mathcal{F}$ 上的一个实值函数 $P(A)$ 满足：\n",
    "1. 非负性公理，若 $A \\in \\mathcal{F}$，则 $P(A) \\geq 0 $; \n",
    "2. 正则性公理，$P(\\Omega) = 1$; \n",
    "3. 可列可加公理，若 $A_1, A_2, ..., A_n, ...$ 互斥，则有 $P(\\bigcup_{i=1}^{+\\infty} A_i) = \\Sigma_{i=1}^{+\\infty} P(A_i)$\n",
    "\n",
    "则称 $P(A)$ 为事件 $A$ 的概率，称三元素 $(\\Omega, \\mathcal{F}, P)$ 为概率空间。 \n",
    "\n",
    "公理化定义给出了概率的本质，概率是集合(事件)的函数。但这个定义并未给出概率的确定方法。"
   ]
  }
 ],
 "metadata": {
  "kernelspec": {
   "display_name": "Python 3",
   "language": "python",
   "name": "python3"
  },
  "language_info": {
   "codemirror_mode": {
    "name": "ipython",
    "version": 3
   },
   "file_extension": ".py",
   "mimetype": "text/x-python",
   "name": "python",
   "nbconvert_exporter": "python",
   "pygments_lexer": "ipython3",
   "version": "3.7.7"
  }
 },
 "nbformat": 4,
 "nbformat_minor": 2
}
