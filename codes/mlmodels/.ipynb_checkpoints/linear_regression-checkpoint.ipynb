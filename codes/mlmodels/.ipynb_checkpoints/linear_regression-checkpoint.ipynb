{
 "cells": [
  {
   "cell_type": "markdown",
   "metadata": {},
   "source": [
    "## Approximation \n",
    "$\\hat{y} = wx + b$, this is the linear function we want to approximate a set of data $\\{ x_i, y_i\\}, i \\in [1, n]$\n",
    "\n",
    "## Cost Function \n",
    "MSE = $J(w, b) = \\frac{1}{N} \\sum_{i=1}^n (y_i - (wx_i + b)) ^ 2$\n",
    "\n",
    "We want to find the right weight $w$ and bias $b$ to minimun the cost fuction, one way to do so is **Gradient Descent**. \n",
    "\n",
    "$$\\frac{\\partial J(w, b)}{\\partial w} = - \\frac{2}{N} \\sum_{i=1}^n (y_i - (w x_i + b)) x_i$$\n",
    "$$\\frac{\\partial J(w, b)}{\\partial b} = - \\frac{2}{N} \\sum_{i=1}^n (y_i - (w x_i + b))$$\n",
    "\n",
    "## Gradient Descent\n",
    "### Update rules \n",
    "\n",
    "$w = w - \\alpha \\dot \\nabla_w J(w, b)$\n",
    "\n",
    "$b = b - \\alpha \\dot \\nabla_b J(w, b)$, where $\\alpha$ is learning rate, and \n",
    "\n",
    "$\\nabla_w J(w, b) = - \\frac{2}{N} \\sum_{i=1}^n (y_i - (w x_i + b)) x_i = \\frac{2}{N} \\sum_{i=1}^n (\\hat{y}_i - y_i) x_i$\n",
    "\n",
    "$\\nabla_b J(w, b) = - \\frac{2}{N} \\sum_{i=1}^n (y_i - (w x_i + b)) = \\frac{2}{N} \\sum_{i=1}^n (\\hat{y}_i - y_i)$"
   ]
  },
  {
   "cell_type": "code",
   "execution_count": 1,
   "metadata": {},
   "outputs": [],
   "source": [
    "import numpy as np \n",
    "\n",
    "class LinearRegression:\n",
    "    def __init__(self, lr=0.001, n_iters=1000):\n",
    "        self.lr = lr \n",
    "        self.n_iters = n_iters\n",
    "        self.weights = None \n",
    "        self.bias = None\n",
    "        \n",
    "    def fit(self, X, y):\n",
    "        n_samples, n_features = X.shape\n",
    "        self.weights = np.zeros(n_features)\n",
    "        self.bias = 0 \n",
    "        \n",
    "        for _ in range(self.n_iters):\n",
    "            y_pred = np.dot(X, self.weights) + self.bias\n",
    "            partial_w = (2 / n_samples) * np.dot(X.T, (y_pred - y))\n",
    "            partial_b = (2 / n_samples) * np.sum(y_pred - y)\n",
    "            \n",
    "            self.weights -= self.lr * partial_w\n",
    "            self.bias -= self.lr * partial_b \n",
    "    \n",
    "    def predict(self, X):\n",
    "        y_pred = np.dot(X, self.weights) + self.bias\n",
    "        return y_pred \n"
   ]
  },
  {
   "cell_type": "code",
   "execution_count": 11,
   "metadata": {},
   "outputs": [
    {
     "name": "stdout",
     "output_type": "stream",
     "text": [
      "MSE,  476.71921129233834\n"
     ]
    },
    {
     "data": {
      "image/png": "[encoded data removed]",
      "text/plain": [
       "<Figure size 576x432 with 1 Axes>"
      ]
     },
     "metadata": {
      "needs_background": "light"
     },
     "output_type": "display_data"
    }
   ],
   "source": [
    "# Do experiments\n",
    "from sklearn.model_selection import train_test_split\n",
    "from sklearn import datasets\n",
    "import matplotlib.pyplot as plt\n",
    "from sklearn.metrics import mean_squared_error as mse \n",
    "\n",
    "X, y = datasets.make_regression(n_samples=100, n_features=1, noise=20, random_state=0)\n",
    "X_train, X_val, y_train, y_val = train_test_split(X, y, test_size=0.2, random_state=1233)\n",
    "\n",
    "fig = plt.figure(figsize=(8, 6))\n",
    "# plt.scatter(X[:, 0], y, color='b', marker='o', s=30)\n",
    "\n",
    "lr = LinearRegression(lr=0.05)\n",
    "lr.fit(X_train, y_train)\n",
    "y_pred = lr.predict(X_val)\n",
    "print(\"MSE, \", mse(y_val, y_pred))\n",
    "\n",
    "y_pred_line = lr.predict(X)\n",
    "cmap = plt.get_cmap('viridis')\n",
    "m1 = plt.scatter(X_train, y_train, color=cmap(0.9), s=10)\n",
    "m2 = plt.scatter(X_val, y_val, color=cmap(0.6), s=10)\n",
    "plt.plot(X, y_pred_line, color='black', linewidth=2)\n",
    "\n",
    "\n"
   ]
  }
 ],
 "metadata": {
  "kernelspec": {
   "display_name": "Python 3",
   "language": "python",
   "name": "python3"
  },
  "language_info": {
   "codemirror_mode": {
    "name": "ipython",
    "version": 3
   },
   "file_extension": ".py",
   "mimetype": "text/x-python",
   "name": "python",
   "nbconvert_exporter": "python",
   "pygments_lexer": "ipython3",
   "version": "3.7.7"
  }
 },
 "nbformat": 4,
 "nbformat_minor": 2
}
