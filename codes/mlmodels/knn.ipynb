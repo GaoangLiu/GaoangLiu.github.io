{
 "cells": [
  {
   "cell_type": "code",
   "execution_count": 29,
   "metadata": {},
   "outputs": [
    {
     "data": {
      "text/plain": [
       "array([0, 2])"
      ]
     },
     "execution_count": 29,
     "metadata": {},
     "output_type": "execute_result"
    }
   ],
   "source": [
    "import numpy as np\n",
    "from collections import Counter\n",
    "from sklearn.datasets import load_iris, load_diabetes\n",
    "from sklearn.model_selection import train_test_split\n",
    "from sklearn.metrics import accuracy_score\n",
    "from sklearn.neighbors import KNeighborsClassifier\n",
    "from sklearn.preprocessing import StandardScaler\n",
    "\n",
    "def euclidean_distance(x1, x2):\n",
    "    return np.sqrt(np.sum((x1 - x2) ** 2))\n",
    "\n",
    "def test_accuracy_score(model, X, y):\n",
    "    X_train, X_val, y_train, y_val = train_test_split(X, y, random_state=0, test_size=0.2)\n",
    "    model.fit(X_train, y_train)\n",
    "    print(\"Accuracy score, \", accuracy_score(y_val, model.predict(X_val)))\n",
    "\n",
    "    \n",
    "class kNN:\n",
    "    '''An naive kNN classifier implementation'''\n",
    "    def __init__(self, n_neighbors=3):\n",
    "        '''Scaling is necessary for otherwise features with large scale will \n",
    "        dominate the distance. \n",
    "        E.g., 'age 0 ~ 120' will be shadowed by 'income 3000 ~ 10_000'\n",
    "        '''\n",
    "        self.n_neighbors = n_neighbors\n",
    "        self.scaler = StandardScaler()\n",
    "    \n",
    "    def fit(self, X, y):\n",
    "        self.scaler.fit(X)\n",
    "        self.X = self.scaler.transform(X)\n",
    "        self.y = y\n",
    "    \n",
    "    def predict(self, X):\n",
    "        X_s = self.scaler.transform(X)\n",
    "        y_preds = list(map(self._predict, X_s))\n",
    "        return np.array(y_preds)\n",
    "        \n",
    "    def _predict(self, x):\n",
    "        distance = [euclidean_distance(x, sample) for sample in self.X]\n",
    "        k_indexes = np.argsort(distance)[:self.n_neighbors]\n",
    "        return Counter([self.y[i] for i in k_indexes]).most_common()[0][0]\n",
    "    \n",
    "        \n",
    "x1 = np.array([1, 0])\n",
    "x2 = np.array([0, 1])\n",
    "x3 = np.array([2, 1])\n",
    "euclidean_distance(x1, x2)\n",
    "dists = [euclidean_distance(np.array([2, 0]), sample) for sample in [x1, x2, x3]]\n",
    "np.argsort(dists)[:2]\n"
   ]
  },
  {
   "cell_type": "code",
   "execution_count": 31,
   "metadata": {},
   "outputs": [
    {
     "name": "stdout",
     "output_type": "stream",
     "text": [
      "12\n",
      "Accuracy score,  1.0\n",
      "Accuracy score,  1.0\n"
     ]
    }
   ],
   "source": [
    "d = load_iris()\n",
    "X, y = d.data, d.target\n",
    "\n",
    "K = int(np.sqrt(X.shape[0]))\n",
    "print(K)\n",
    "\n",
    "model = kNN(n_neighbors=K)\n",
    "test_accuracy_score(model, X, y)\n",
    "\n",
    "model = KNeighborsClassifier(n_neighbors=6)\n",
    "test_accuracy_score(model, X, y)"
   ]
  },
  {
   "cell_type": "code",
   "execution_count": 28,
   "metadata": {},
   "outputs": [
    {
     "name": "stdout",
     "output_type": "stream",
     "text": [
      "Test on diabetes\n"
     ]
    },
    {
     "data": {
      "text/plain": [
       "array([[-1.22474487e+00, -3.39934989e-16],\n",
       "       [ 1.22474487e+00, -1.22474487e+00],\n",
       "       [ 0.00000000e+00,  1.22474487e+00]])"
      ]
     },
     "execution_count": 28,
     "metadata": {},
     "output_type": "execute_result"
    }
   ],
   "source": [
    "d = load_diabetes()\n",
    "X, y = d.data, d.target\n",
    "\n",
    "print(\"Test on diabetes\")\n",
    "\n",
    "\n",
    "ss = StandardScaler()\n",
    "\n",
    "train = np.array([[50, 0.2], [100, 0.1], [75, 0.3]])\n",
    "test  = np.array([105, 150]).reshape(-1, 1)\n",
    "ss.fit(train)\n",
    "s_train = ss.transform(train)\n",
    "# s_test = ss.transform(test)\n",
    "s_train\n",
    "# , s_test\n"
   ]
  }
 ],
 "metadata": {
  "kernelspec": {
   "display_name": "Python 3",
   "language": "python",
   "name": "python3"
  },
  "language_info": {
   "codemirror_mode": {
    "name": "ipython",
    "version": 3
   },
   "file_extension": ".py",
   "mimetype": "text/x-python",
   "name": "python",
   "nbconvert_exporter": "python",
   "pygments_lexer": "ipython3",
   "version": "3.7.7"
  }
 },
 "nbformat": 4,
 "nbformat_minor": 2
}
