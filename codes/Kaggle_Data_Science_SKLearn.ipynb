{
  "nbformat": 4,
  "nbformat_minor": 0,
  "metadata": {
    "colab": {
      "name": "Kaggle-Data-Science-SKLearn.ipynb",
      "version": "0.3.2",
      "provenance": [],
      "collapsed_sections": []
    },
    "kernelspec": {
      "name": "python3",
      "display_name": "Python 3"
    },
    "accelerator": "GPU"
  },
  "cells": [
    {
      "cell_type": "markdown",
      "metadata": {
        "id": "4q37MNYbbEQW",
        "colab_type": "text"
      },
      "source": [
        "#Data Science London + Scikit-learn\n",
        "\n",
        "Kaggle用于[学习Sklearn的比赛](https://www.kaggle.com/c/data-science-london-scikit-learn/data)。 \n",
        "\n",
        "## 数据 \n",
        "1. train.csv 1000 x 40 \n",
        "2. test.csv 9000 x 40\n",
        "3. trainLabels.csv 1000x 1\n",
        "\n",
        "Train set中有1000个样本，测试样本9000个样本。\n",
        "\n"
      ]
    },
    {
      "cell_type": "code",
      "metadata": {
        "id": "Y-oVr317eS-R",
        "colab_type": "code",
        "colab": {}
      },
      "source": [
        "# Pull and unzip data from VPS\n",
        "\n",
        "!wget bwg.fayderlau.xyz:81/datascience.zip && unzip datascience.zip  \n",
        "# simplify directory name \n",
        "!mv data-science-london-scikit-learn data \n",
        "!ls"
      ],
      "execution_count": 0,
      "outputs": []
    },
    {
      "cell_type": "code",
      "metadata": {
        "id": "XB3GNKxue2nB",
        "colab_type": "code",
        "colab": {}
      },
      "source": [
        "import numpy as np \n",
        "import pandas as pd\n",
        "import matplotlib.pyplot as plt\n",
        "import seaborn as sns\n",
        "\n",
        "\n",
        "train = pd.read_csv('data/train.csv', header=None)\n",
        "test = pd.read_csv('data/test.csv', header=None)\n",
        "\n",
        "# Flatten labels, unlike np.flatten, which returns a copy of matrix, np.ravel \n",
        "# returns a view, lick reference of C/C++, of original matrix\n",
        "labels = np.ravel(pd.read_csv('data/trainLabels.csv', header=None))\n",
        "\n"
      ],
      "execution_count": 0,
      "outputs": []
    },
    {
      "cell_type": "markdown",
      "metadata": {
        "id": "TYgqELBIlKZi",
        "colab_type": "text"
      },
      "source": [
        "## 先考虑只使用KNN 且不使用特征缩放\n",
        "先不使用 Feature Scaling "
      ]
    },
    {
      "cell_type": "code",
      "metadata": {
        "id": "SSoq-BS8lJYC",
        "colab_type": "code",
        "colab": {}
      },
      "source": [
        "from sklearn.neighbors import KNeighborsClassifier\n",
        "from sklearn.model_selection import train_test_split, cross_val_score\n",
        "\n",
        "xtrain, xtest, ytrain, ytest = train_test_split(train, labels, test_size=0.3, random_state=714)\n",
        "xtrain.shape"
      ],
      "execution_count": 0,
      "outputs": []
    },
    {
      "cell_type": "markdown",
      "metadata": {
        "id": "6h2LPvZrgxy2",
        "colab_type": "text"
      },
      "source": [
        "###使用网格搜索寻找最优参数"
      ]
    },
    {
      "cell_type": "code",
      "metadata": {
        "id": "JR5mPQ30g9az",
        "colab_type": "code",
        "colab": {}
      },
      "source": [
        "from sklearn.model_selection import GridSearchCV\n",
        "param_grid = {'n_neighbors':list(range(1, 25))}\n",
        "knn = KNeighborsClassifier()\n",
        "\n",
        "grid = GridSearchCV(knn, param_grid = param_grid, cv=5, n_jobs=-1)\n",
        "grid.fit(xtrain, ytrain)\n",
        "print(\"Best cv accuracy: {:.2f}\".format(grid.best_score_))\n",
        "print(\"Best set score: {:.2f}\".format(grid.score(xtest, ytest)))\n",
        "print(\"Best parameters: \", grid.best_params_)\n",
        "\n",
        "# Predict test with best KNN \n",
        "# 1st sub: Best_param: {'n_neighbors': 5}, submission result: 0.87444 \n",
        "# 2nd sub: Best_param: {'n_neighbors': 6}, submission result: 0.87593\n",
        "\n",
        "def make_submission(estimator):\n",
        "  test_fill = np.nan_to_num(test)\n",
        "  result = pd.DataFrame(estimator.predict(test_fill))\n",
        "  print(result.shape)\n",
        "  result.columns = ['Solution']\n",
        "  result['Id'] = np.arange(1, result.shape[0] +1)\n",
        "  result = result[['Id', 'Solution']]\n",
        "  result.to_csv('submission.csv', index=False)"
      ],
      "execution_count": 0,
      "outputs": []
    },
    {
      "cell_type": "markdown",
      "metadata": {
        "id": "e9j-RNh5z2oc",
        "colab_type": "text"
      },
      "source": [
        "###手动寻找最优参数\n",
        "不使用于网格搜索\n",
        "\n",
        "结论：效果比使用Grid Search稍微好一点，最佳结果 0.87593 (Grid Search) V.S. 0.87630"
      ]
    },
    {
      "cell_type": "code",
      "metadata": {
        "id": "Yz76ZQ2Y0F5-",
        "colab_type": "code",
        "colab": {}
      },
      "source": [
        "neighbors = np.arange(1,26)\n",
        "train_accuracy = []\n",
        "val_accuracy = []\n",
        "kfold, best_knn, best_acc = 10, None, 0\n",
        "\n",
        "for i, k in enumerate(neighbors):\n",
        "  knn = KNeighborsClassifier(n_neighbors=k, n_jobs=-1)\n",
        "  knn.fit(xtrain, ytrain)\n",
        "  train_accuracy.append(knn.score(xtrain, ytrain))\n",
        "  cur_acc = np.mean(cross_val_score(knn, train, labels, cv=kfold))\n",
        "  val_accuracy.append(cur_acc)\n",
        "  \n",
        "  if cur_acc > best_acc:\n",
        "    best_knn = knn\n",
        "    best_acc = cur_acc\n",
        "\n",
        "plt.figure(figsize=[13, 8])\n",
        "plt.plot(neighbors, val_accuracy, label=\"Validation Accuracy\")\n",
        "plt.plot(neighbors, train_accuracy, label=\"Training Accuracy\")\n",
        "plt.legend()\n",
        "\n",
        "print('Best Accuracy without feature scaling:', best_acc)\n",
        "print(best_knn)  \n",
        "\n",
        "# Best Accuracy without feature scaling: 0.9109999999999999\n",
        "# KNeighborsClassifier(algorithm='auto', leaf_size=30, metric='minkowski', metric_params=None, n_jobs=None, n_neighbors=3, p=2, weights='uniform')  \n",
        "# 3rd sub: 0.87630\n",
        "\n",
        "make_submission(best_knn)"
      ],
      "execution_count": 0,
      "outputs": []
    },
    {
      "cell_type": "markdown",
      "metadata": {
        "id": "TcZ_g9Id5G3g",
        "colab_type": "text"
      },
      "source": [
        "##使用特征缩放\n",
        "考察3种方法 \n",
        "1. 标准缩放 standscaler  X = (X - mean(X)) / std(X)\n",
        "2. 最小最大值缩放 MinMaxScaler  xstd = (x - min(x)) / (max(x) - min(x))\n",
        "3. 标准化 x = x / ||x||\n",
        "\n",
        "先考虑不使用网格搜索的结果 "
      ]
    },
    {
      "cell_type": "code",
      "metadata": {
        "id": "ICU_-gMY7ao2",
        "colab_type": "code",
        "colab": {}
      },
      "source": [
        "from sklearn.preprocessing import StandardScaler, MinMaxScaler, Normalizer\n",
        "std = StandardScaler()\n",
        "xstd = std.fit_transform(train)\n",
        "\n",
        "mms = MinMaxScaler()\n",
        "xmms = mms.fit_transform(train)\n",
        "\n",
        "norm = Normalizer()\n",
        "xnorm = norm.fit_transform(train)\n",
        "\n",
        "neig = np.arange(1, 30)\n",
        "kfold = 10\n",
        "val_accuracy = {'std':[], 'mms':[], 'norm':[]}\n",
        "best_knn, best_acc, best_scaling = None, 0, None\n",
        "\n",
        "for i, k in enumerate(neig):\n",
        "    knn = KNeighborsClassifier(n_neighbors=k, n_jobs=-1)\n",
        "\n",
        "    s1 = np.mean(cross_val_score(knn, xstd, labels, cv=kfold))\n",
        "    val_accuracy['std'].append(s1)\n",
        "    s2 = np.mean(cross_val_score(knn, xmms, labels, cv=kfold))\n",
        "    val_accuracy['mms'].append(s2)\n",
        "    s3 = np.mean(cross_val_score(knn, xnorm, labels, cv=kfold))\n",
        "    val_accuracy['norm'].append(s3)\n",
        "    \n",
        "    if s1 > best_acc:\n",
        "      best_acc = s1\n",
        "      best_knn = knn\n",
        "      best_scaling = 'std'\n",
        "    elif s2 > best_acc:\n",
        "      best_acc = s2\n",
        "      best_knn = knn\n",
        "      best_scaling = 'mms'\n",
        "    elif s3 > best_acc:\n",
        "      best_acc = s3\n",
        "      best_knn = knn\n",
        "      best_scaling = 'norm'\n",
        "\n",
        "\n",
        "# Visulazation       \n",
        "plt.figure(figsize=[13,8])\n",
        "plt.plot(neig, val_accuracy['std'], label = 'CV Accuracy with std')\n",
        "plt.plot(neig, val_accuracy['mms'], label = 'CV Accuracy with mms')\n",
        "plt.plot(neig, val_accuracy['norm'], label = 'CV Accuracy with norm')\n",
        "plt.legend()        \n",
        "\n",
        "print('Best Accuracy with feature scaling:', best_acc)\n",
        "print('Best kNN classifier:', best_knn)\n",
        "print('Best scaling:', best_scaling)\n",
        "\n",
        "def make_submission_scale():\n",
        "  test_fill = np.nan_to_num(test)\n",
        "  best_knn.fit(xnorm, labels)\n",
        "  submission = pd.DataFrame(best_knn.predict(norm.transform(test_fill)))\n",
        "  print(submission.shape)\n",
        "  submission.columns = ['Solution']\n",
        "  submission['Id'] = np.arange(1,submission.shape[0]+1)\n",
        "  submission = submission[['Id', 'Solution']]\n",
        "  submission.to_csv('submission.csv', index=False)\n",
        "  \n",
        "# Make submission\n",
        "# 4th sub: 0.89828, which is the best of the first 4th submission\n",
        "make_submission_scale()"
      ],
      "execution_count": 0,
      "outputs": []
    },
    {
      "cell_type": "markdown",
      "metadata": {
        "id": "ukO4t0JOA1cq",
        "colab_type": "text"
      },
      "source": [
        "##特征选择\n",
        "大约有40个特征\n",
        "考察使用RFECV：交叉验证递归式特征消除\n"
      ]
    },
    {
      "cell_type": "code",
      "metadata": {
        "id": "QPh2GNlIA4-5",
        "colab_type": "code",
        "colab": {}
      },
      "source": [
        "f,ax = plt.subplots(figsize=(18, 18))\n",
        "# sns.heatmap(pd.DataFrame(xnorm).corr(), annot=True, linewidths=.5, fmt= '.1f',ax=ax)\n"
      ],
      "execution_count": 0,
      "outputs": []
    },
    {
      "cell_type": "code",
      "metadata": {
        "id": "HXStC6C8BOrI",
        "colab_type": "code",
        "colab": {}
      },
      "source": [
        "from sklearn.ensemble import RandomForestClassifier\n",
        "from sklearn.metrics import f1_score, confusion_matrix\n",
        "from sklearn.metrics import accuracy_score\n",
        "\n",
        "xtrain, xval, ytrain, yval = train_test_split(xstd, labels, test_size=0.3, random_state=714)\n",
        "rf = RandomForestClassifier(random_state=715)\n",
        "pred = rf.fit(xtrain, ytrain)\n",
        "acc = accuracy_score(yval, rf.predict(xval))\n",
        "print(\"Accuracy is {:.3f}\".format(acc))\n",
        "cm = confusion_matrix(yval, rf.predict(xval))\n",
        "sns.heatmap(cm, annot=True,fmt=\"d\")"
      ],
      "execution_count": 0,
      "outputs": []
    },
    {
      "cell_type": "markdown",
      "metadata": {
        "id": "iZT9IOfaEiWH",
        "colab_type": "text"
      },
      "source": [
        "## KNN + RandomForest + Gaussian Mixture\n",
        "结果：0.99143 这个结果达到了learderboard前20名的水平。\n"
      ]
    },
    {
      "cell_type": "code",
      "metadata": {
        "id": "qB91OIOKEnrb",
        "colab_type": "code",
        "colab": {}
      },
      "source": [
        "xtrain, ytrain, xtest = np.asarray(train), np.asarray(labels), np.asarray(test)\n",
        "ytrain = np.ravel(ytrain)\n",
        "print('training_x Shape:',xtrain.shape,', training_y Shape:',ytrain.shape, ', testing_x Shape:',xtest.shape)\n",
        "\n",
        "xall = np.r_[xtrain, xtest]\n",
        "print('x_all shape :',xall.shape)\n",
        "\n",
        "# using the Gaussian mixture model\n",
        "from sklearn.mixture import GaussianMixture\n",
        "lowest_bic = np.infty\n",
        "bic = []\n",
        "n_components_range = range(1, 7)\n",
        "cv_types = ['spherical', 'tied', 'diag', 'full']\n",
        "\n",
        "for cv_type in cv_types:\n",
        "    for n_components in n_components_range:\n",
        "        # Fit a mixture of Gaussians with EM\n",
        "        gmm = GaussianMixture(n_components=n_components, covariance_type=cv_type)\n",
        "        gmm.fit(xall)\n",
        "        bic.append(gmm.aic(xall))\n",
        "        \n",
        "        if bic[-1] < lowest_bic:\n",
        "            lowest_bic = bic[-1]\n",
        "            best_gmm = gmm\n",
        "\n",
        "print(bic)\n",
        "print(\"best gmm\", best_gmm)\n",
        "\n",
        "            \n",
        "best_gmm.fit(xall)\n",
        "xtrain = best_gmm.predict_proba(xtrain)\n",
        "xtest = best_gmm.predict_proba(xtest)\n",
        "print('training_x Shape:',xtrain.shape,', training_y Shape:',ytrain.shape, ', testing_x Shape:',xtest.shape)\n",
        "\n",
        "\n",
        "# Mixing two models\n",
        "knn = KNeighborsClassifier()\n",
        "rf = RandomForestClassifier()\n",
        "\n",
        "param_grid = {}\n",
        "grid_search_knn = GridSearchCV(knn,param_grid=param_grid,cv=10,scoring='accuracy').fit(xtrain,ytrain)\n",
        "print('best estimator KNN:', grid_search_knn.best_estimator_,'Best Score', grid_search_knn.best_estimator_.score(xtrain,ytrain))\n",
        "# knn_best = grid_search_knn.best_estimator_\n",
        "\n",
        "rf = RandomForestClassifier(n_estimators=100)\n",
        "grid_search_rf = GridSearchCV(rf, param_grid=dict( ), verbose=3,scoring='accuracy',cv=10).fit(xtrain,ytrain)\n",
        "print('best estimator RandomForest:',grid_search_rf.best_estimator_,'Best Score', grid_search_rf.best_estimator_.score(xtrain, ytrain))\n",
        "rf_best = grid_search_rf.best_estimator_\n",
        "\n",
        "\n",
        "\n",
        "def make_submission_mix():\n",
        "  res = pd.DataFrame(grid_search_rf.best_estimator_.predict(xtest))\n",
        "  res.columns = ['Solution']\n",
        "  res['Id'] = np.arange(1, res.shape[0]+1)\n",
        "  res = res[['Id', 'Solution']]\n",
        "  res.to_csv('submission.csv', index=False)\n",
        "\n",
        "# First use best KNN estimator   \n",
        "# 5th sub: 0.99143 !!! ranked as top 20 of the leaderboard  \n",
        "\n",
        "# Now use best Random Forest estimator\n",
        "# 6th sub: 0.99068. \n",
        "make_submission_mix()\n",
        "            "
      ],
      "execution_count": 0,
      "outputs": []
    },
    {
      "cell_type": "markdown",
      "metadata": {
        "id": "gju45SF4kNx6",
        "colab_type": "text"
      },
      "source": [
        "## 下载提交结果 \n"
      ]
    },
    {
      "cell_type": "code",
      "metadata": {
        "id": "bKEkRN7GkSZg",
        "colab_type": "code",
        "colab": {}
      },
      "source": [
        "from google.colab import files\n",
        "files.download('submission.csv')"
      ],
      "execution_count": 0,
      "outputs": []
    },
    {
      "cell_type": "markdown",
      "metadata": {
        "id": "M_75uCX8NOLK",
        "colab_type": "text"
      },
      "source": [
        "#Sklearn中GMM的应用 \n"
      ]
    },
    {
      "cell_type": "code",
      "metadata": {
        "id": "r5vbgNHvNSm3",
        "colab_type": "code",
        "colab": {
          "base_uri": "https://localhost:8080/",
          "height": 385
        },
        "outputId": "fbc6be18-de99-4b0b-c93a-6e0634d7b220"
      },
      "source": [
        "from sklearn.datasets.samples_generator import make_blobs\n",
        "X, y = make_blobs(n_samples=400, centers=4, cluster_std=0.60, random_state=0)\n",
        "\n",
        "# X = X[:, ::-1] #交换列是为了方便画图\n",
        "from sklearn.mixture import GaussianMixture\n",
        "gmm = GaussianMixture(n_components=4).fit(X)\n",
        "labels = gmm.predict(X)\n",
        "plt.scatter(X[:, 0], X[:, 1], c=labels, s=40, cmap='viridis')\n",
        "\n",
        "probs = gmm.predict_proba(X)\n",
        "print(probs[:5].round(3))\n",
        "\n",
        "from sklearn.datasets import make_moons\n",
        "Xmoon, ymoon = make_moons(200, noise=.05, random_state=0)\n",
        "plt.scatter(Xmoon[:, 0], Xmoon[:, 1])\n",
        "\n",
        "n_components = np.arange(1, 21)\n",
        "models = [GaussianMixture(n, covariance_type='full', random_state=0).fit(Xmoon)\n",
        "          for n in n_components]\n",
        "\n",
        "\n",
        "plt.plot(n_components, [m.bic(Xmoon) for m in models], label='BIC')\n",
        "plt.plot(n_components, [m.aic(Xmoon) for m in models], label='AIC')\n",
        "plt.legend(loc='best')\n",
        "plt.xlabel('n_components')"
      ],
      "execution_count": 36,
      "outputs": [
        {
          "output_type": "stream",
          "text": [
            "[[0.    0.537 0.463 0.   ]\n",
            " [1.    0.    0.    0.   ]\n",
            " [1.    0.    0.    0.   ]\n",
            " [0.    1.    0.    0.   ]\n",
            " [1.    0.    0.    0.   ]]\n"
          ],
          "name": "stdout"
        },
        {
          "output_type": "execute_result",
          "data": {
            "text/plain": [
              "Text(0.5, 0, 'n_components')"
            ]
          },
          "metadata": {
            "tags": []
          },
          "execution_count": 36
        },
        {
          "output_type": "display_data",
          "data": {
            "image/png": "[encoded data removed]",
            "text/plain": [
              "<Figure size 432x288 with 1 Axes>"
            ]
          },
          "metadata": {
            "tags": []
          }
        }
      ]
    }
  ]
}