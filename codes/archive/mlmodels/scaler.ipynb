{
 "cells": [
  {
   "cell_type": "markdown",
   "metadata": {},
   "source": [
    "Mean $$\\mu = \\frac{1}{N} \\sum_{i=1}^N(x_i)$$\n",
    "\n",
    "Standard deviation $$\\sigma = \\sqrt{\\frac{1}{N} \\sum_{i=1}^N(x_i - \\mu)^2}$$\n",
    "\n",
    "Standardization $$z = \\frac{x - \\mu}{\\sigma}$$\n",
    "\n",
    "Robust scaler uses a similar method to the `MinMaxScaler` but it instead uses the interquartile range, rather than the min-max, so that it is robust to outliers, \n",
    "$$X = \\frac{X - Q_1(X}{ Q_3(X) - Q_1(X)}$$"
   ]
  },
  {
   "cell_type": "code",
   "execution_count": 20,
   "metadata": {},
   "outputs": [
    {
     "name": "stdout",
     "output_type": "stream",
     "text": [
      "[[0.         0.        ]\n",
      " [1.         0.28571429]\n",
      " [1.         0.28571429]\n",
      " [1.         1.        ]]\n",
      "[[0.         0.        ]\n",
      " [1.         0.28571429]\n",
      " [1.         0.28571429]\n",
      " [1.         1.        ]]\n",
      "[[-4.         -1.14285714]\n",
      " [ 0.          0.        ]\n",
      " [ 0.          0.        ]\n",
      " [ 0.          2.85714286]]\n",
      "[[-4.         -1.14285714]\n",
      " [ 0.          0.        ]\n",
      " [ 0.          0.        ]\n",
      " [ 0.          2.85714286]]\n"
     ]
    }
   ],
   "source": [
    "import numpy as np\n",
    "from sklearn.preprocessing import StandardScaler, MinMaxScaler, RobustScaler\n",
    "\n",
    "\n",
    "def standard_scaler(X):\n",
    "    '''Transform data into a distribution with a mean value 0 and standard deviation of 1.\n",
    "    '''\n",
    "    mean = np.mean(X, axis=0)\n",
    "    std = np.std(X, axis=0)\n",
    "    return (X - mean) / std\n",
    "\n",
    "def min_max_scalar(X):\n",
    "    ''''''\n",
    "    MAX = np.max(X, axis=0)\n",
    "    MIN = np.min(X, axis=0)\n",
    "    return (X - MIN) / (MAX - MIN)\n",
    "\n",
    "def robust_scaler(X):\n",
    "    q1 = np.quantile(X, 0.25, axis=0)\n",
    "    q3 = np.quantile(X, 0.75, axis=0)\n",
    "    return (X - np.median(X, axis=0)) / (q3 - q1)\n",
    "    \n",
    "X = np.array([[1, 2], [3, 4], [3, 4], [3, 9]])\n",
    "print(min_max_scalar(X))\n",
    "\n",
    "ss = MinMaxScaler()\n",
    "print(ss.fit_transform(X))\n",
    "\n",
    "\n",
    "print(robust_scaler(X))\n",
    "ss = RobustScaler()\n",
    "print(ss.fit_transform(X))\n",
    "\n"
   ]
  }
 ],
 "metadata": {
  "kernelspec": {
   "display_name": "Python 3",
   "language": "python",
   "name": "python3"
  },
  "language_info": {
   "codemirror_mode": {
    "name": "ipython",
    "version": 3
   },
   "file_extension": ".py",
   "mimetype": "text/x-python",
   "name": "python",
   "nbconvert_exporter": "python",
   "pygments_lexer": "ipython3",
   "version": "3.7.7"
  }
 },
 "nbformat": 4,
 "nbformat_minor": 2
}
