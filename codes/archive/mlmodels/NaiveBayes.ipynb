{
 "cells": [
  {
   "cell_type": "markdown",
   "metadata": {},
   "source": [
    "# Naive Bayes\n",
    "## Bayes Theorem\n",
    "$P(A|B) = \\frac{P(B|A) P(A)}{P(B)} $\n",
    "\n",
    "In our case, given features $X = (x_1, ..., x_n)$, the class probability $P(y|X)$:\n",
    "\n",
    "$P(y|X) = \\frac{P(X|y) P(y)}{P(X)}$\n",
    "\n",
    "We're making an assumption all features are **mutually independent**.\n",
    "\n",
    "$P(y|X) = \\frac{P(x_1|y) \\cdot P(x_2|y) \\cdot P(x_3|y) \\cdots P(x_n|y) \\cdot P(y)} {P(X)}$\n",
    "\n",
    "Note that $P(y|X)$ called the posterior probability, $P(x_i|y)$ class conditional probability, and $P(y)$ prior probability of $y$. \n",
    "\n",
    "## Select class with highest probability \n",
    "\n",
    "$y = argmax_yP(y|X) = argmax_y \\frac{P(x_1|y) \\cdot P(x_2|y) \\cdot P(x_3|y) \\cdots P(x_n|y) \\cdot P(y)} {P(X)}$\n",
    "\n",
    "Since $P(X)$ is certain, \n",
    "\n",
    "$y = argmax_y P(x_1|y) \\cdot P(x_2|y) \\cdot P(x_3|y) \\cdots P(x_n|y) \\cdot P(y)$\n",
    "\n",
    "To avoid overfollow problem, we use a little trick:\n",
    "\n",
    "$y = argmax_y (\\log(P(x_1|y)) + \\log(P(x_2|y)) + \\log(P(x_3|y)) \\cdots \\log(P(x_n|y)) + \\log(P(y)) )$\n",
    "\n",
    "## Model class conditional probability $P(x_i|y)$ by Gaussian\n",
    "\n",
    "$P(x_i|y) = \\frac{1}{\\sqrt{2\\pi \\sigma^2}} \\cdot e^{-\\frac{(x_i - \\mu_y)^2}{2 \\sigma_y^2}}$\n"
   ]
  },
  {
   "cell_type": "code",
   "execution_count": 1,
   "metadata": {},
   "outputs": [],
   "source": [
    "import numpy as np\n",
    "\n",
    "class NaiveBayes:\n",
    "    def fit(self, X, y):\n",
    "        n_samples, n_features = X.shape\n",
    "        self._classes = np.unique(y)\n",
    "        n_classes = len(self._classes)\n",
    "        \n",
    "        self._mean = np.zeros((n_classes, n_features), dtype=np.float64)\n",
    "        self._var = np.zeros((n_classes, n_features), dtype=np.float64)\n",
    "        self._priors = np.zeros(n_classes, dtype=np.float64)\n",
    "        \n",
    "        for idx, c in enumerate(self._classes):\n",
    "            X_c = X[y==c] \n",
    "            self._mean[idx, :] = X_c.mean(axis=0)\n",
    "            self._var[idx, :] = X_c.var(axis=0)\n",
    "            \n",
    "            # prior probability of y, or frequency, how often this class C occur\n",
    "            self._priors[idx] = X_c.shape[0] / float(n_samples)\n",
    "        print(self._classes)\n",
    "        print(self._mean, self._var, self._priors)\n",
    "        \n",
    "\n",
    "    def predict(self, X):\n",
    "        y_pred = [self._predict(x) for x in X]\n",
    "        return y_pred \n",
    "    \n",
    "    def _predict(self, x):\n",
    "        '''Make prediction on a single instance.'''\n",
    "        posteriors = []\n",
    "        for idx, c in enumerate(self._classes):\n",
    "            prior = np.log(self._priors[idx])\n",
    "            class_conditional = np.sum(np.log(self._probability_dense_function(idx, x)))\n",
    "            _posterior = prior + class_conditional\n",
    "            posteriors.append(_posterior)\n",
    "        \n",
    "        return self._classes[np.argmax(posteriors)]\n",
    "            \n",
    "    def _probability_dense_function(self, class_idx, x):\n",
    "        mean = self._mean[class_idx]\n",
    "        var = self._var[class_idx]\n",
    "        numerator = np.exp(-(x - mean) ** 2 / (2 * var))\n",
    "        denominator = np.sqrt(2 * np.pi * var)\n",
    "        return numerator / denominator\n",
    "        \n",
    "        "
   ]
  },
  {
   "cell_type": "code",
   "execution_count": 2,
   "metadata": {},
   "outputs": [
    {
     "name": "stdout",
     "output_type": "stream",
     "text": [
      "[-1  1  2]\n",
      "[[5.02051282 3.4025641  1.46153846 0.24102564]\n",
      " [5.88648649 2.76216216 4.21621622 1.32432432]\n",
      " [6.63863636 2.98863636 5.56590909 2.03181818]] [[0.12932281 0.1417883  0.02031558 0.01113741]\n",
      " [0.26387144 0.1039737  0.2300073  0.04075968]\n",
      " [0.38918905 0.10782541 0.29451963 0.06444215]] [0.325      0.30833333 0.36666667]\n",
      "Accuracy score  0.9666666666666667\n"
     ]
    }
   ],
   "source": [
    "from sklearn import datasets\n",
    "import xgboost\n",
    "from sklearn.model_selection import train_test_split\n",
    "from sklearn.metrics import accuracy_score\n",
    "from sklearn.naive_bayes import MultinomialNB\n",
    "\n",
    "data = datasets.load_breast_cancer()\n",
    "data = datasets.load_iris()\n",
    "X, y = data.data, data.target \n",
    "y[y == 0] = -1\n",
    "n_estimators=10\n",
    "\n",
    "X_train, X_val, y_train, y_val = train_test_split(X, y, test_size=0.2, random_state=0)\n",
    "\n",
    "nb = NaiveBayes()\n",
    "# nb = MultinomialNB()\n",
    "nb.fit(X_train, y_train)\n",
    "y_pred = nb.predict(X_val)\n",
    "print(\"Accuracy score \", accuracy_score(y_val, y_pred))"
   ]
  }
 ],
 "metadata": {
  "kernelspec": {
   "display_name": "Python 3",
   "language": "python",
   "name": "python3"
  },
  "language_info": {
   "codemirror_mode": {
    "name": "ipython",
    "version": 3
   },
   "file_extension": ".py",
   "mimetype": "text/x-python",
   "name": "python",
   "nbconvert_exporter": "python",
   "pygments_lexer": "ipython3",
   "version": "3.7.7"
  }
 },
 "nbformat": 4,
 "nbformat_minor": 2
}
